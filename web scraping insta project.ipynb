{
 "cells": [
  {
   "cell_type": "code",
   "execution_count": 7,
   "id": "deb2ad76",
   "metadata": {},
   "outputs": [],
   "source": [
    "from selenium import webdriver\n",
    "from selenium.webdriver.common.keys import Keys\n",
    "from selenium.webdriver.common.by import By\n",
    "from selenium.webdriver.support import expected_conditions as EC\n",
    "from selenium.webdriver.support.wait import WebDriverWait\n",
    "import os\n",
    "import wget"
   ]
  },
  {
   "cell_type": "code",
   "execution_count": 2,
   "id": "33825815",
   "metadata": {},
   "outputs": [
    {
     "name": "stderr",
     "output_type": "stream",
     "text": [
      "C:\\Users\\SNVA\\AppData\\Local\\Temp\\ipykernel_3880\\3842292076.py:1: DeprecationWarning: executable_path has been deprecated, please pass in a Service object\n",
      "  driver = webdriver.Chrome('C:/Users/SNVA/Downloads/chromedriver_win32/chromedriver.exe')\n"
     ]
    }
   ],
   "source": [
    "\n",
    "driver = webdriver.Chrome('C:/Users/SNVA/Downloads/chromedriver_win32/chromedriver.exe')\n",
    "driver.get(\"https://www.instagram.com/\")\n",
    "username= WebDriverWait(driver,10).until(EC.element_to_be_clickable((By.CSS_SELECTOR,\"input[name='username']\")))\n",
    "password= WebDriverWait(driver,10).until(EC.element_to_be_clickable((By.CSS_SELECTOR,\"input[name='password']\")))\n",
    "username.clear()\n",
    "password.clear()\n",
    "username.send_keys(\"\")\n",
    "password.send_keys(\"\")\n",
    "log_in=WebDriverWait(driver,10).until(EC.element_to_be_clickable((By.CSS_SELECTOR,\"button[type='submit']\"))).click()\n",
    "not_now=WebDriverWait(driver,10).until(EC.element_to_be_clickable((By.XPATH,\"//button[contains(text(),'Not Now')]\"))).click()\n",
    "not_now2=WebDriverWait(driver,10).until(EC.element_to_be_clickable((By.XPATH,\"//button[contains(text(),'Not Now')]\"))).click()\n",
    "searchbox=WebDriverWait(driver,10).until(EC.element_to_be_clickable((By.XPATH,\"//input[@placeholder='Search']\")))\n",
    "searchbox.clear()\n",
    "keyword=\"#cat\"\n",
    "searchbox.send_keys(keyword)\n",
    "searchbox.send_keys(Keys.ENTER)"
   ]
  },
  {
   "cell_type": "code",
   "execution_count": 4,
   "id": "158bb31e",
   "metadata": {},
   "outputs": [
    {
     "data": {
      "text/plain": [
       "['https://scontent-iad3-2.cdninstagram.com/v/t51.2885-15/301017177_1191542301704108_9171511429815195747_n.webp?stp=dst-jpg_e35&_nc_ht=scontent-iad3-2.cdninstagram.com&_nc_cat=108&_nc_ohc=fgE83qsfHz0AX_1b7Aw&edm=AGyKU4gBAAAA&ccb=7-5&ig_cache_key=MjkxMTkxMjgwNDgyNzM3NzM2Mg%3D%3D.2-ccb7-5&oh=00_AT-7Yp8Nvq_V4eKP-peuz_OyhsrFuUP60a1vs9K643CguQ&oe=630E7CAF&_nc_sid=4cb768',\n",
       " 'https://scontent-iad3-2.cdninstagram.com/v/t51.2885-15/301017177_1191542301704108_9171511429815195747_n.webp?stp=dst-jpg_e35&_nc_ht=scontent-iad3-2.cdninstagram.com&_nc_cat=108&_nc_ohc=fgE83qsfHz0AX_1b7Aw&edm=AGyKU4gBAAAA&ccb=7-5&ig_cache_key=MjkxMTkxMjgwNDgyNzM3NzM2Mg%3D%3D.2-ccb7-5&oh=00_AT-7Yp8Nvq_V4eKP-peuz_OyhsrFuUP60a1vs9K643CguQ&oe=630E7CAF&_nc_sid=4cb768',\n",
       " 'https://scontent-iad3-2.cdninstagram.com/v/t51.2885-15/301098927_199171869115812_7776362215663256690_n.jpg?stp=dst-jpg_e35&_nc_ht=scontent-iad3-2.cdninstagram.com&_nc_cat=100&_nc_ohc=93FnmzI9GM0AX9nHokS&edm=AGyKU4gBAAAA&ccb=7-5&ig_cache_key=MjkxMTgzMTgzMTQwNzkzNjYzMQ%3D%3D.2-ccb7-5&oh=00_AT8Ra0l3limDIz0tdGXz00bWtoHIVlapeUoLtwtb4Yk_XA&oe=630EDD64&_nc_sid=4cb768',\n",
       " 'https://scontent-iad3-2.cdninstagram.com/v/t51.2885-15/301673657_148118617544555_8633929512612278699_n.jpg?stp=dst-jpg_e35&_nc_ht=scontent-iad3-2.cdninstagram.com&_nc_cat=111&_nc_ohc=Dh_8uIEwrPoAX-29aDI&tn=zGWRHsW6R1j2FJOl&edm=AGyKU4gBAAAA&ccb=7-5&ig_cache_key=MjkxMjMwNDgzMjM2MzQwMjAyNg%3D%3D.2-ccb7-5&oh=00_AT-xbBedDtv4OikWI3Vz55y7UJeUijHAVosFauyLIiz2Jg&oe=630D229F&_nc_sid=4cb768',\n",
       " 'https://scontent-iad3-2.cdninstagram.com/v/t51.2885-15/301584426_1295870420953506_2895086491130839943_n.jpg?stp=dst-jpg_e35&_nc_ht=scontent-iad3-2.cdninstagram.com&_nc_cat=106&_nc_ohc=j5mrEuHZgyEAX9gE02J&edm=AGyKU4gBAAAA&ccb=7-5&ig_cache_key=MjkxMjM2NTY3MDQ0OTA1Mzg0MQ%3D%3D.2-ccb7-5&oh=00_AT_Qc5TIEkwYQsfduDeW4OpSEEE9LvFhzqEB4EiAV955nQ&oe=630E0577&_nc_sid=4cb768',\n",
       " 'https://scontent-iad3-2.cdninstagram.com/v/t51.2885-15/300955359_755283822364223_4377810756513107978_n.webp?stp=dst-jpg_e35&_nc_ht=scontent-iad3-2.cdninstagram.com&_nc_cat=1&_nc_ohc=RdnXkyqlNqgAX_VizWk&edm=AGyKU4gBAAAA&ccb=7-5&ig_cache_key=MjkxMjAyODcwNDc5Njk2NjE3Nw%3D%3D.2-ccb7-5&oh=00_AT-AFoxUKYLdOQ4q6i6y39VoOBtU0jfu4LPEUugb-jo5vA&oe=630D07DE&_nc_sid=4cb768',\n",
       " 'https://scontent-iad3-2.cdninstagram.com/v/t51.2885-15/301013262_387545326868442_6656218384104497263_n.webp?stp=dst-jpg_e35&_nc_ht=scontent-iad3-2.cdninstagram.com&_nc_cat=106&_nc_ohc=cDn5gt57vT4AX91JtOW&tn=zGWRHsW6R1j2FJOl&edm=AGyKU4gBAAAA&ccb=7-5&ig_cache_key=MjkxMTkwODA5MjE5MTY0MDk3Mw%3D%3D.2-ccb7-5&oh=00_AT9wOcwWSXjWsbuG-383I8dpAI1sC2mq6-yYDFREmgkI-A&oe=630E2EEE&_nc_sid=4cb768',\n",
       " 'https://scontent-iad3-2.cdninstagram.com/v/t51.2885-15/301492668_752969255957395_7689568999552467385_n.jpg?stp=dst-jpg_e35&_nc_ht=scontent-iad3-2.cdninstagram.com&_nc_cat=107&_nc_ohc=g1RMuT9bsGYAX8MiIue&edm=AGyKU4gBAAAA&ccb=7-5&ig_cache_key=MjkxMjM0OTE5MzAwODE5Nzg5OA%3D%3D.2-ccb7-5&oh=00_AT9jw2ocd7VLhH6n3QuJxLnMHDkAEFti-g9iBPzksjgI3Q&oe=630E1E00&_nc_sid=4cb768',\n",
       " 'https://scontent-iad3-2.cdninstagram.com/v/t51.2885-15/300402385_200112949034772_3357188378257989447_n.jpg?stp=dst-jpg_e15&_nc_ht=scontent-iad3-2.cdninstagram.com&_nc_cat=100&_nc_ohc=a8RZTgPONO4AX9kZeCt&edm=AGyKU4gBAAAA&ccb=7-5&ig_cache_key=MjkxMTY5MjMyMzkzOTk1NTgyNQ%3D%3D.2-ccb7-5&oh=00_AT-PkIjn6mZjRS_srtuFgOaAdQr-xRQu2BL4T62SZTPu4w&oe=630D3BBE&_nc_sid=4cb768',\n",
       " 'https://scontent-iad3-2.cdninstagram.com/v/t51.2885-15/300773031_605988050900340_3287097383385146805_n.jpg?stp=dst-jpg_e35&_nc_ht=scontent-iad3-2.cdninstagram.com&_nc_cat=100&_nc_ohc=VVaYsNifSAEAX8LWtc9&edm=AGyKU4gBAAAA&ccb=7-5&ig_cache_key=MjkxMTE4NTExMTQ1NTE4MzU4NQ%3D%3D.2-ccb7-5&oh=00_AT_WhwCpNYVaSMeYpSB19as_ikvxea79KEo36RrYejoSng&oe=630D86BD&_nc_sid=4cb768',\n",
       " 'https://scontent-iad3-2.cdninstagram.com/v/t51.2885-15/301230841_8964979596861412_5522791735838278715_n.jpg?stp=dst-jpg_e35&_nc_ht=scontent-iad3-2.cdninstagram.com&_nc_cat=104&_nc_ohc=Uis_Xe4qtm8AX8GiaYB&edm=AGyKU4gBAAAA&ccb=7-5&ig_cache_key=MjkxMjM5MDIwMTYwNzcyOTE2Nw%3D%3D.2-ccb7-5&oh=00_AT_jaPozDGNAn5P7rDWZEWYsqg-xNUusKODAKQDaYp5hAg&oe=630D1793&_nc_sid=4cb768',\n",
       " 'https://scontent-iad3-2.cdninstagram.com/v/t51.2885-15/301328033_175206625032517_6037055818479390786_n.jpg?stp=dst-jpg_e35&_nc_ht=scontent-iad3-2.cdninstagram.com&_nc_cat=101&_nc_ohc=0SbrmSCqfT8AX9-Xoob&edm=AGyKU4gBAAAA&ccb=7-5&ig_cache_key=MjkxMjM5MDA5NDY5NDg4NjgwMw%3D%3D.2-ccb7-5&oh=00_AT-xuyViPqpNtIAmpXm7BEUX_5tnIdl_rG_oDfa9a5IVlQ&oe=630D6E7A&_nc_sid=4cb768',\n",
       " 'https://scontent-iad3-2.cdninstagram.com/v/t51.2885-15/300825914_430807995521267_3987337269040551591_n.jpg?stp=dst-jpg_e35&_nc_ht=scontent-iad3-2.cdninstagram.com&_nc_cat=111&_nc_ohc=Z1lSS10WITsAX-1_SbO&edm=AGyKU4gBAAAA&ccb=7-5&ig_cache_key=MjkxMjM5MDI3MDg1Njk5MjI4OA%3D%3D.2-ccb7-5&oh=00_AT_6Mrgct7sJ7_2bYr6UDTBC_rjbgFI11VZ7U2BHA89xRA&oe=630DB4DF&_nc_sid=4cb768',\n",
       " 'https://scontent-iad3-2.cdninstagram.com/v/t51.2885-15/301122177_731057551330146_7432135558732094188_n.jpg?stp=dst-jpg_e35&_nc_ht=scontent-iad3-2.cdninstagram.com&_nc_cat=106&_nc_ohc=FFNmIkW04-IAX-DYYJs&edm=AGyKU4gBAAAA&ccb=7-5&ig_cache_key=MjkxMjM5MDMzNjY3MjU2NjQzNQ%3D%3D.2-ccb7-5&oh=00_AT9J5LQNhmBK_m-tkdSnDhTAwhGf91u_-7dCMkAHl5RV_Q&oe=630DB9F9&_nc_sid=4cb768',\n",
       " 'https://scontent-iad3-2.cdninstagram.com/v/t51.2885-15/301170709_179519527897607_4149092295875006414_n.jpg?stp=dst-jpg_e35&_nc_ht=scontent-iad3-2.cdninstagram.com&_nc_cat=111&_nc_ohc=kHyTmIG07KoAX8nvmAE&edm=AGyKU4gBAAAA&ccb=7-5&ig_cache_key=MjkxMjM5MDE0NTE4Njk5NDM2NA%3D%3D.2-ccb7-5&oh=00_AT8TfBlBtZv1POWEDhYDEHBLsqO3Kr5umcODJJY303Jj_Q&oe=630EDA53&_nc_sid=4cb768',\n",
       " 'https://scontent-iad3-2.cdninstagram.com/v/t51.2885-15/300768928_446567414085265_3595498170365739653_n.jpg?stp=dst-jpg_e35&_nc_ht=scontent-iad3-2.cdninstagram.com&_nc_cat=101&_nc_ohc=JlQMgkf83Z8AX98j_lr&edm=AGyKU4gBAAAA&ccb=7-5&ig_cache_key=MjkxMjM5MDM0NzIwODg2OTIwMg%3D%3D.2-ccb7-5&oh=00_AT9dS78G-d5pLjJbj5OGhZJcxe8mAFpz8n2MCTqPo-z9hw&oe=630D6FBF&_nc_sid=4cb768',\n",
       " 'https://scontent-iad3-2.cdninstagram.com/v/t51.2885-15/301003638_153475043952179_1158749655123979149_n.jpg?stp=dst-jpg_e35&_nc_ht=scontent-iad3-2.cdninstagram.com&_nc_cat=111&_nc_ohc=ZD1HoPKF7g4AX8GOYAw&edm=AGyKU4gBAAAA&ccb=7-5&ig_cache_key=MjkxMjM5MDIxMDY1OTA0NDA1Nw%3D%3D.2-ccb7-5&oh=00_AT99lvzdJXiBreAfwvV9wYedyTA3eRZTqi0QwI54Dcrqqg&oe=630D4367&_nc_sid=4cb768',\n",
       " 'https://scontent-iad3-2.cdninstagram.com/v/t51.2885-15/301104168_752717672603204_6858023662096900392_n.jpg?stp=dst-jpg_e35&_nc_ht=scontent-iad3-2.cdninstagram.com&_nc_cat=108&_nc_ohc=Curm46xoCuEAX-aeEB-&edm=AGyKU4gBAAAA&ccb=7-5&ig_cache_key=MjkxMjM4OTA5NDQwNDE3MTc4Nw%3D%3D.2-ccb7-5&oh=00_AT-xEwJiz4_U-T4hrYLNi_o9vR9D9Lji2kziX16KzKSwJg&oe=630D8F13&_nc_sid=4cb768',\n",
       " 'https://scontent-iad3-2.cdninstagram.com/v/t51.2885-15/301393442_171812398708858_3801563533798297572_n.jpg?stp=dst-jpg_e35&_nc_ht=scontent-iad3-2.cdninstagram.com&_nc_cat=110&_nc_ohc=z6jr9FbEn9IAX_c6jdr&edm=AGyKU4gBAAAA&ccb=7-5&ig_cache_key=MjkxMjM4OTU2MTc2NzcxMTMyNw%3D%3D.2-ccb7-5&oh=00_AT9IuHhLh9H480ZzaVKvuj1zQdeGFlWxdQD101-5DuEsoA&oe=630DBF3D&_nc_sid=4cb768',\n",
       " 'https://scontent-iad3-2.cdninstagram.com/v/t51.2885-15/301016348_5403179283107548_1995169044594100121_n.jpg?stp=dst-jpg_e35&_nc_ht=scontent-iad3-2.cdninstagram.com&_nc_cat=104&_nc_ohc=9hyC4cZnl2wAX_nEWUe&edm=AGyKU4gBAAAA&ccb=7-5&ig_cache_key=MjkxMjM4OTYwNTU3MzA3NjI0Nw%3D%3D.2-ccb7-5&oh=00_AT8Ox6bHSaScxPgRKih0QyVgljaDAI6qbMVNwwdTZxir8w&oe=630D978D&_nc_sid=4cb768',\n",
       " 'https://scontent-iad3-2.cdninstagram.com/v/t51.2885-15/301227210_305151385156803_9072477062863576619_n.webp?stp=dst-jpg_e35&_nc_ht=scontent-iad3-2.cdninstagram.com&_nc_cat=103&_nc_ohc=VIdcX_W-NrQAX-GPP-7&edm=AGyKU4gBAAAA&ccb=7-5&ig_cache_key=MjkxMjM4OTQyMDM1MTk4NzQ4NA%3D%3D.2-ccb7-5&oh=00_AT-3eVviuTyM7TxS0n_69Mk7BjAS6U4cDtUEQboYFzkf_g&oe=630EAF5A&_nc_sid=4cb768',\n",
       " 'https://scontent-iad3-2.cdninstagram.com/v/t51.2885-15/300923463_753895759023336_6094527326328080730_n.jpg?stp=dst-jpg_e35&_nc_ht=scontent-iad3-2.cdninstagram.com&_nc_cat=100&_nc_ohc=f11M1Gt9bU0AX8fEKTr&edm=AGyKU4gBAAAA&ccb=7-5&ig_cache_key=MjkxMjM4OTk3MTExNTEwNzg3Ng%3D%3D.2-ccb7-5&oh=00_AT_rJXyU5czqudNXkM1LlLAtYPp45tEW1Q1j6NFxQIRu4g&oe=630DC178&_nc_sid=4cb768',\n",
       " 'https://scontent-iad3-2.cdninstagram.com/v/t51.2885-15/301232270_175455468304123_8619028411610928520_n.webp?stp=dst-jpg_e35&_nc_ht=scontent-iad3-2.cdninstagram.com&_nc_cat=107&_nc_ohc=Fb1kutHL51QAX_quU3s&edm=AGyKU4gBAAAA&ccb=7-5&ig_cache_key=MjkxMjM4OTU0Mjc4MzE5NzI0NA%3D%3D.2-ccb7-5&oh=00_AT_TaI1ukkcMDk5-KSO3-qjHROxARXH2nqxfYRP_VQwAjw&oe=630D0207&_nc_sid=4cb768',\n",
       " 'https://scontent-iad3-2.cdninstagram.com/v/t51.2885-15/301168344_2967898996689817_7161022865179241190_n.webp?stp=dst-jpg_e35&_nc_ht=scontent-iad3-2.cdninstagram.com&_nc_cat=101&_nc_ohc=neEoCNuz0CoAX_OqLI6&edm=AGyKU4gBAAAA&ccb=7-5&ig_cache_key=MjkxMjM4OTYwMjYwMDI1NjI5Nw%3D%3D.2-ccb7-5&oh=00_AT_DnFQO1WM7pBON2FUHfbtD4bcXSHVgeEjARmRo8wDjrA&oe=630D7C80&_nc_sid=4cb768',\n",
       " 'https://scontent-iad3-2.cdninstagram.com/v/t51.2885-15/301474512_468356361968992_4586236716645858969_n.jpg?stp=dst-jpg_e35&_nc_ht=scontent-iad3-2.cdninstagram.com&_nc_cat=104&_nc_ohc=4SqyP4XIuE4AX_QZgEF&edm=AGyKU4gBAAAA&ccb=7-5&ig_cache_key=MjkxMjM4OTg5NzU1NDM4OTI1Ng%3D%3D.2-ccb7-5&oh=00_AT9Msxus5fj9RYrweb_DWEUEuWwwxGXmmHr4Ryjyi2JUjQ&oe=630ED30E&_nc_sid=4cb768',\n",
       " 'https://scontent-iad3-2.cdninstagram.com/v/t51.2885-15/300975792_142108461844980_6172337508511122781_n.webp?stp=dst-jpg_e35&_nc_ht=scontent-iad3-2.cdninstagram.com&_nc_cat=100&_nc_ohc=eL0bPTXrENMAX8DbZGl&edm=AGyKU4gBAAAA&ccb=7-5&ig_cache_key=MjkxMjM4OTQ5NzI0NzcxMzk5Mg%3D%3D.2-ccb7-5&oh=00_AT8IWjnvKk3wga0lp4jtQzv9i7JYFVqH7Ggt_Hsjk6ljBw&oe=630DBD07&_nc_sid=4cb768',\n",
       " 'https://scontent-iad3-2.cdninstagram.com/v/t51.2885-15/301305938_771680790809046_4680672897956544716_n.jpg?stp=dst-jpg_e35&_nc_ht=scontent-iad3-2.cdninstagram.com&_nc_cat=106&_nc_ohc=tFcJwf3Xc-EAX9-1yrf&edm=AGyKU4gBAAAA&ccb=7-5&ig_cache_key=MjkxMjM4OTMwNzkyMDUwNTkyOA%3D%3D.2-ccb7-5&oh=00_AT_VBuykm696NRR1ncsAnSWXkCA8DvpVkUDqPHh-HCFWMA&oe=630D2ACE&_nc_sid=4cb768',\n",
       " 'https://scontent-iad3-2.cdninstagram.com/v/t51.2885-15/300801866_535900041667760_6531266805232810320_n.webp?stp=dst-jpg_e35&_nc_ht=scontent-iad3-2.cdninstagram.com&_nc_cat=108&_nc_ohc=8oawh5CYFbMAX85ZgXZ&edm=AGyKU4gBAAAA&ccb=7-5&ig_cache_key=MjkxMjM4OTA3NTAwMTYwMDIwMA%3D%3D.2-ccb7-5&oh=00_AT9D1LcXkfwtJPcrU0WtfIHUKW4GUCyyxQClJ1jmKya6KQ&oe=630E62D1&_nc_sid=4cb768',\n",
       " 'https://scontent-iad3-2.cdninstagram.com/v/t51.2885-15/300830999_637640011066388_7769762664542539511_n.jpg?stp=dst-jpg_e35&_nc_ht=scontent-iad3-2.cdninstagram.com&_nc_cat=108&_nc_ohc=gzHSKFt5LaUAX9RENqw&edm=AGyKU4gBAAAA&ccb=7-5&ig_cache_key=MjkxMjM4OTYyODcwMDY4MzU5Ng%3D%3D.2-ccb7-5&oh=00_AT9v9ElGtT9vEEgyXzHSbfDmrrp0_eJZ3U0JM11VTtil2A&oe=630D5C63&_nc_sid=4cb768',\n",
       " 'https://scontent-iad3-2.cdninstagram.com/v/t51.2885-15/300897015_617148366644400_7404159982061775946_n.webp?stp=dst-jpg_e35&_nc_ht=scontent-iad3-2.cdninstagram.com&_nc_cat=100&_nc_ohc=XCoo9tRFvu4AX9E1EBs&edm=AGyKU4gBAAAA&ccb=7-5&ig_cache_key=MjkxMjM4OTY2NjkxNzgwNjU1MA%3D%3D.2-ccb7-5&oh=00_AT_PeObVc_8XAO5jqw1ncRJjmnlHhJX2Xdd01oUFmarrAg&oe=630D0569&_nc_sid=4cb768',\n",
       " 'https://scontent-iad3-2.cdninstagram.com/v/t51.2885-15/300393516_629411088493465_711551995761703317_n.jpg?stp=dst-jpg_e35&_nc_ht=scontent-iad3-2.cdninstagram.com&_nc_cat=101&_nc_ohc=DF8m_u3l1DwAX9Wrg5A&edm=AGyKU4gBAAAA&ccb=7-5&ig_cache_key=MjkxMjM4OTQ1MjE3MDUzMzA4Mw%3D%3D.2-ccb7-5&oh=00_AT9EAlH4TgjyYrp4xQ3rfQHgYiQTbkki4wnB9VZNDcAOAg&oe=630DE531&_nc_sid=4cb768',\n",
       " 'https://scontent-iad3-2.cdninstagram.com/v/t51.2885-15/300798137_1182935162270904_7331342516985505076_n.jpg?stp=dst-jpg_e35&_nc_ht=scontent-iad3-2.cdninstagram.com&_nc_cat=100&_nc_ohc=UBArAuvr_0oAX98kt2n&tn=zGWRHsW6R1j2FJOl&edm=AGyKU4gBAAAA&ccb=7-5&ig_cache_key=MjkxMjM4OTA5ODY5Njk4MjQ5NQ%3D%3D.2-ccb7-5&oh=00_AT9c3v8QlFy-__59p3_bR_V6m9NVSmMq0-n2_W53zmMFqg&oe=630DE6A9&_nc_sid=4cb768',\n",
       " 'https://scontent-iad3-2.cdninstagram.com/v/t51.2885-15/301392349_623107632580110_1397277499444171374_n.jpg?stp=dst-jpg_e35&_nc_ht=scontent-iad3-2.cdninstagram.com&_nc_cat=106&_nc_ohc=4-1eBA7oMmcAX-Szwlv&edm=AGyKU4gBAAAA&ccb=7-5&ig_cache_key=MjkxMjM4OTIwNTgyMTg1MTIzMw%3D%3D.2-ccb7-5&oh=00_AT_vHrCvF5Tp5yJdbZs-yr_jLJ3UG1V5EvTBdigztGUCAA&oe=630D70BE&_nc_sid=4cb768',\n",
       " 'https://scontent-iad3-2.cdninstagram.com/v/t51.2885-15/301315329_1247199776098543_4508080302641363386_n.webp?stp=dst-jpg_e35&_nc_ht=scontent-iad3-2.cdninstagram.com&_nc_cat=107&_nc_ohc=Ub6M2N0CGssAX8R-JlP&edm=AGyKU4gBAAAA&ccb=7-5&ig_cache_key=MjkxMjM4OTQ4MDgyNDY1NTA0Mg%3D%3D.2-ccb7-5&oh=00_AT-NflaLGtUyIei8EmTcPrd6TZrA3nNeShlBM2jJCVbdFw&oe=630EA270&_nc_sid=4cb768',\n",
       " 'https://scontent-iad3-2.cdninstagram.com/v/t51.2885-19/297585844_1064330377788079_4189892154813194523_n.jpg?stp=dst-jpg_s150x150&_nc_ht=scontent-iad3-2.cdninstagram.com&_nc_cat=107&_nc_ohc=ywelzmcXtk4AX-JN84g&edm=ALlQn9MBAAAA&ccb=7-5&oh=00_AT82r_gehx7DzTGjYTyQ9QHKX5_CtBejGvByXDtzisGMXA&oe=630D5104&_nc_sid=48a2a6']"
      ]
     },
     "execution_count": 4,
     "metadata": {},
     "output_type": "execute_result"
    }
   ],
   "source": [
    "driver.execute_script(\"window.scrollTo(0,4000);\")\n",
    "images=driver.find_elements(By.TAG_NAME,'img')\n",
    "images=[image.get_attribute('src')for image in images]\n",
    "images"
   ]
  },
  {
   "cell_type": "code",
   "execution_count": 5,
   "id": "9658f433",
   "metadata": {},
   "outputs": [
    {
     "data": {
      "text/plain": [
       "'C:\\\\Users\\\\SNVA\\\\cats'"
      ]
     },
     "execution_count": 5,
     "metadata": {},
     "output_type": "execute_result"
    }
   ],
   "source": [
    "path=os.getcwd()\n",
    "path=os.path.join(path, keyword[1:]+\"s\")\n",
    "os.mkdir(path)\n",
    "path"
   ]
  },
  {
   "cell_type": "code",
   "execution_count": 6,
   "id": "8bee427d",
   "metadata": {},
   "outputs": [
    {
     "name": "stdout",
     "output_type": "stream",
     "text": [
      "100% [................................................................................] 5441 / 5441"
     ]
    }
   ],
   "source": [
    "counter=0\n",
    "for i in images:\n",
    "    save_as=os.path.join(path,keyword[1:]+str(counter)+'.jpg')\n",
    "    wget.download(i,save_as)\n",
    "    counter+=1"
   ]
  },
  {
   "cell_type": "code",
   "execution_count": null,
   "id": "772170fb",
   "metadata": {},
   "outputs": [],
   "source": []
  }
 ],
 "metadata": {
  "kernelspec": {
   "display_name": "Python 3 (ipykernel)",
   "language": "python",
   "name": "python3"
  },
  "language_info": {
   "codemirror_mode": {
    "name": "ipython",
    "version": 3
   },
   "file_extension": ".py",
   "mimetype": "text/x-python",
   "name": "python",
   "nbconvert_exporter": "python",
   "pygments_lexer": "ipython3",
   "version": "3.9.12"
  }
 },
 "nbformat": 4,
 "nbformat_minor": 5
}
